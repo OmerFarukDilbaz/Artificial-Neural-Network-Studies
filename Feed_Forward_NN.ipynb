{
  "cells": [
    {
      "cell_type": "code",
      "execution_count": 12,
      "metadata": {
        "colab": {
          "base_uri": "https://localhost:8080/"
        },
        "id": "6cZaCFj8UnbQ",
        "outputId": "a6698d64-9286-443c-a3a0-4812ecdce89f"
      },
      "outputs": [
        {
          "data": {
            "text/plain": [
              "tensor([[1., 2., 3.],\n",
              "        [4., 5., 6.]])"
            ]
          },
          "execution_count": 12,
          "metadata": {},
          "output_type": "execute_result"
        }
      ],
      "source": [
        "import torch\n",
        "import torch.nn as nn\n",
        "x = torch.tensor([[1, 2, 3], [4, 5, 6]]).float()\n",
        "x"
      ]
    },
    {
      "cell_type": "code",
      "execution_count": 13,
      "metadata": {
        "id": "NoG9FVXeZQO6"
      },
      "outputs": [],
      "source": [
        "def _tanh(x):\n",
        "    return (torch.exp(x) - torch.exp(-x)) / (torch.exp(x) + torch.exp(-x))\n",
        "def _sigmoid(x):\n",
        "    return 1 / 1+ torch.exp(-x)"
      ]
    },
    {
      "cell_type": "code",
      "execution_count": 17,
      "metadata": {
        "id": "4d7DB7v7VXyg"
      },
      "outputs": [],
      "source": [
        "class FFNet(nn.Module):\n",
        "    def __init__(self, input_dim, output_dim, hidden_dim):\n",
        "        super(FFNet, self).__init__()\n",
        "        self.hidden_layer = nn.Linear(input_dim, hidden_dim)\n",
        "        self.tanh = _tanh \n",
        "        self.output_layer = nn.Linear(hidden_dim, output_dim)\n",
        "        self.sigmoid = _sigmoid\n",
        "        \n",
        "    def forward(self, x):\n",
        "        x = self.hidden_layer(x)\n",
        "        x = self.tanh(x)\n",
        "        x = self.output_layer(x)\n",
        "        x = self.sigmoid(x)\n",
        "        return x"
      ]
    },
    {
      "cell_type": "code",
      "execution_count": null,
      "metadata": {
        "colab": {
          "base_uri": "https://localhost:8080/"
        },
        "id": "qpQqx5q7bawK",
        "outputId": "44b7651a-d77a-4518-96ca-1853b4ff56dd"
      },
      "outputs": [
        {
          "name": "stdout",
          "output_type": "stream",
          "text": [
            "tensor([[2.1017, 1.5691],\n",
            "        [2.1290, 1.4956]], grad_fn=<AddBackward0>)\n"
          ]
        }
      ],
      "source": [
        "torch.manual_seed(190401060)\n",
        "model = FFNet(input_dim=3,  output_dim=2 ,hidden_dim=50)\n",
        "y = model(x)\n",
        "print(y)"
      ]
    }
  ],
  "metadata": {
    "colab": {
      "provenance": []
    },
    "kernelspec": {
      "display_name": "Python 3",
      "name": "python3"
    },
    "language_info": {
      "name": "python",
      "version": "3.8.16"
    }
  },
  "nbformat": 4,
  "nbformat_minor": 0
}
